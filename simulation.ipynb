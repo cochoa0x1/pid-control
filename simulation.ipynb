{
 "cells": [
  {
   "cell_type": "code",
   "execution_count": 1,
   "metadata": {
    "collapsed": true
   },
   "outputs": [],
   "source": [
    "import numpy as np"
   ]
  },
  {
   "cell_type": "code",
   "execution_count": 684,
   "metadata": {
    "collapsed": true
   },
   "outputs": [],
   "source": [
    "#parametrize curve\n",
    "T = np.arange(0,2*np.pi,.01)\n",
    "x = lambda t: 6*500*np.cos(t)\n",
    "y = lambda t: 500*np.sin(3*t)\n",
    "\n",
    "mapx=[]\n",
    "mapy=[]\n",
    "for i in T:\n",
    "    mapx.append(x(i))\n",
    "    mapy.append(y(i))\n",
    "    "
   ]
  },
  {
   "cell_type": "code",
   "execution_count": 685,
   "metadata": {
    "collapsed": false
   },
   "outputs": [
    {
     "name": "stdout",
     "output_type": "stream",
     "text": [
      "Populating the interactive namespace from numpy and matplotlib\n"
     ]
    },
    {
     "name": "stderr",
     "output_type": "stream",
     "text": [
      "/Users/chris/anaconda2/envs/py3/lib/python3.5/site-packages/IPython/core/magics/pylab.py:161: UserWarning: pylab import has clobbered these variables: ['draw']\n",
      "`%matplotlib` prevents importing * from pylab and numpy\n",
      "  \"\\n`%matplotlib` prevents importing * from pylab and numpy\"\n"
     ]
    }
   ],
   "source": [
    "%pylab inline"
   ]
  },
  {
   "cell_type": "code",
   "execution_count": 686,
   "metadata": {
    "collapsed": true
   },
   "outputs": [],
   "source": [
    "from scipy.optimize import minimize"
   ]
  },
  {
   "cell_type": "code",
   "execution_count": 687,
   "metadata": {
    "collapsed": false
   },
   "outputs": [],
   "source": [
    "def cte(a,t0=0):\n",
    "    px,py = a\n",
    "    #the distance function\n",
    "    d2 = lambda t: (px-x(t))**2+(py-y(t))**2\n",
    "    res =minimize(d2,t0)\n",
    "    t= res.x\n",
    "\n",
    "    #figure out the left or righness\n",
    "    a_=np.array([px,py]).reshape(2,)\n",
    "    \n",
    "    dt = .00001\n",
    "    p = np.array([x(t),y(t)]).reshape(2,)\n",
    "    p2 = np.array([x(t+dt),y(t+dt)]).reshape(2,)\n",
    "\n",
    "    #path direction\n",
    "    dp = p-p2\n",
    "\n",
    "    #vector to car from point on path\n",
    "    da = p-a_\n",
    "\n",
    "    s=np.sign(np.cross(dp,da))\n",
    "\n",
    "    return float(s*np.sqrt(res.fun)),p,t\n",
    "\n",
    "\n"
   ]
  },
  {
   "cell_type": "code",
   "execution_count": 688,
   "metadata": {
    "collapsed": true
   },
   "outputs": [],
   "source": [
    "class Car():\n",
    "    def __init__(self, x,y,psi,v):\n",
    "        self.x = x\n",
    "        self.y = y\n",
    "        self.psi = psi\n",
    "        self.speed = v #constant speed\n",
    "        self.pathx=[x]\n",
    "        self.pathy=[y]\n",
    "        self.pathpsi = [psi]\n",
    "    \n",
    "    def move(self,dt,psi):\n",
    "        #first turn, then move (instant steering angle change)\n",
    "        self.psi += psi\n",
    "        self.x += self.speed*np.cos(self.psi)*dt\n",
    "        self.y += self.speed*np.sin(self.psi)*dt\n",
    "        \n",
    "        self.pathx.append(self.x)\n",
    "        self.pathy.append(self.y)\n",
    "        self.pathpsi.append(self.psi)\n",
    "        \n",
    "    def __repr__(self):\n",
    "        return \"x: %f, y: %f, psi: %f\"%(self.x,self.y,self.psi)\n",
    "        "
   ]
  },
  {
   "cell_type": "code",
   "execution_count": 689,
   "metadata": {
    "collapsed": true
   },
   "outputs": [],
   "source": [
    "def draw(car):\n",
    "    #draw the map\n",
    "    figure(figsize=(7,7))\n",
    "    plot(mapx,mapy)\n",
    "    \n",
    "    #car's current position\n",
    "    #a=np.array([car.x,car.y])\n",
    "    #d,p,t = cte(a)\n",
    "    #plot(a[0],a[1],'ro')\n",
    "    #plot(p[0],p[1],'bo')\n",
    "    \n",
    "    #car's history\n",
    "    plot(car.pathx,car.pathy)\n",
    "    \n",
    "    \n",
    "    \n"
   ]
  },
  {
   "cell_type": "code",
   "execution_count": 690,
   "metadata": {
    "collapsed": false
   },
   "outputs": [],
   "source": [
    "class PID():\n",
    "    def __init__(self,p):\n",
    "        self.p=p\n",
    "        self.icte=0.0\n",
    "        self.last_cte =0\n",
    "        self.is_init = False\n",
    "    \n",
    "    def pred(self,new_cte,dt):\n",
    "        \n",
    "        if self.is_init == False:\n",
    "            self.last_cte = new_cte\n",
    "            self.is_init = True\n",
    "        \n",
    "        self.icte+=new_cte*dt\n",
    "        dcte = (new_cte - self.last_cte)/dt\n",
    "        self.last_cte = new_cte\n",
    "        a = -1*self.p[0]*new_cte - 1*self.p[1]*dcte - 1*self.p[2]*self.icte\n",
    "        #map to angles\n",
    "        \n",
    "        \n",
    "        \n",
    "        if a > 25*(np.pi)/180.0:\n",
    "            a = 25*(np.pi)/180.0\n",
    "        elif a < -25*(np.pi)/180.0:\n",
    "            a = -25*(np.pi)/180.0\n",
    "        return a\n",
    "        "
   ]
  },
  {
   "cell_type": "code",
   "execution_count": 691,
   "metadata": {
    "collapsed": true
   },
   "outputs": [],
   "source": [
    "\n",
    "car = Car(x(np.pi),y(np.pi),np.pi/2,5)"
   ]
  },
  {
   "cell_type": "code",
   "execution_count": 692,
   "metadata": {
    "collapsed": false
   },
   "outputs": [
    {
     "data": {
      "text/plain": [
       "(-1.1165815827496315e-05,\n",
       " array([ -3.00000000e+03,   1.11658160e-05]),\n",
       " array([ 3.14159265]))"
      ]
     },
     "execution_count": 692,
     "metadata": {},
     "output_type": "execute_result"
    }
   ],
   "source": [
    "cte([car.x,car.y],t0)"
   ]
  },
  {
   "cell_type": "code",
   "execution_count": 693,
   "metadata": {
    "collapsed": false
   },
   "outputs": [
    {
     "data": {
      "text/plain": [
       "-0.4363323129985824"
      ]
     },
     "execution_count": 693,
     "metadata": {},
     "output_type": "execute_result"
    }
   ],
   "source": [
    "pid.pred(0,.1)"
   ]
  },
  {
   "cell_type": "code",
   "execution_count": 712,
   "metadata": {
    "collapsed": false
   },
   "outputs": [],
   "source": [
    "dt= 1\n",
    "\n",
    "pid = PID([.5,1,0])\n",
    "\n",
    "t0=0\n",
    "car = Car(x(t0),y(t0),1.0*np.pi/2,30)\n",
    "\n",
    "for i in range(100):\n",
    "    cte_,_,t0 = cte([car.x,car.y],t0)\n",
    "    t0=t0[0]\n",
    "    psi = pid.pred(cte_, dt)\n",
    "    #print(cte_,psi)\n",
    "    car.move(dt,psi)\n"
   ]
  },
  {
   "cell_type": "code",
   "execution_count": 713,
   "metadata": {
    "collapsed": false
   },
   "outputs": [
    {
     "data": {
      "image/png": "[encoded data removed]",
      "text/plain": [
       "<matplotlib.figure.Figure at 0x1153bf898>"
      ]
     },
     "metadata": {},
     "output_type": "display_data"
    }
   ],
   "source": [
    "draw(car)"
   ]
  },
  {
   "cell_type": "code",
   "execution_count": null,
   "metadata": {
    "collapsed": true
   },
   "outputs": [],
   "source": []
  },
  {
   "cell_type": "code",
   "execution_count": null,
   "metadata": {
    "collapsed": true
   },
   "outputs": [],
   "source": []
  }
 ],
 "metadata": {
  "anaconda-cloud": {},
  "kernelspec": {
   "display_name": "Python [conda env:py3]",
   "language": "python",
   "name": "conda-env-py3-py"
  },
  "language_info": {
   "codemirror_mode": {
    "name": "ipython",
    "version": 3
   },
   "file_extension": ".py",
   "mimetype": "text/x-python",
   "name": "python",
   "nbconvert_exporter": "python",
   "pygments_lexer": "ipython3",
   "version": "3.5.2"
  }
 },
 "nbformat": 4,
 "nbformat_minor": 1
}
