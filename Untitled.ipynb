{
 "cells": [
  {
   "cell_type": "code",
   "execution_count": 124,
   "metadata": {
    "collapsed": true
   },
   "outputs": [],
   "source": [
    "from subprocess import check_output\n",
    "import re\n",
    "import numpy as np"
   ]
  },
  {
   "cell_type": "code",
   "execution_count": 12,
   "metadata": {
    "collapsed": false
   },
   "outputs": [],
   "source": [
    "result = check_output(['./build/pid','.01','.01','.01'])"
   ]
  },
  {
   "cell_type": "code",
   "execution_count": 15,
   "metadata": {
    "collapsed": false
   },
   "outputs": [
    {
     "data": {
      "text/plain": [
       "\"AVGCTE: 1.21203\\\\n'\""
      ]
     },
     "execution_count": 15,
     "metadata": {},
     "output_type": "execute_result"
    }
   ],
   "source": [
    "result = str(result)\n",
    "result[result.find('AVGCTE'):]"
   ]
  },
  {
   "cell_type": "code",
   "execution_count": 17,
   "metadata": {
    "collapsed": true
   },
   "outputs": [],
   "source": []
  },
  {
   "cell_type": "code",
   "execution_count": 78,
   "metadata": {
    "collapsed": true
   },
   "outputs": [],
   "source": [
    "m=re.compile(r\"AVGCTE: ([\\d.]*)\")\n",
    "d=re.compile(r\"DURATION: ([\\d.]*)\")"
   ]
  },
  {
   "cell_type": "code",
   "execution_count": 219,
   "metadata": {
    "collapsed": true
   },
   "outputs": [],
   "source": [
    "def error(p,n=1):\n",
    "    ctes=[]\n",
    "    durs=[]\n",
    "    for i in range(n):\n",
    "        result = str(check_output(['./build/pid',str(p[0]),str(p[1]),str(p[2])]))\n",
    "\n",
    "        cte = float(m.findall(result)[0])\n",
    "        duration = float(d.findall(result)[0])\n",
    "\n",
    "        ctes.append(cte)\n",
    "        durs.append(duration)\n",
    "        \n",
    "    print(p,np.mean(ctes),np.mean(duration))\n",
    "    \n",
    "    if(mean(duration) < 200):\n",
    "        return 1000\n",
    "\n",
    "    return np.mean(ctes)\n",
    " \n"
   ]
  },
  {
   "cell_type": "code",
   "execution_count": 220,
   "metadata": {
    "collapsed": true
   },
   "outputs": [],
   "source": [
    "from scipy.optimize import minimize"
   ]
  },
  {
   "cell_type": "code",
   "execution_count": 221,
   "metadata": {
    "collapsed": false,
    "scrolled": false
   },
   "outputs": [],
   "source": [
    "#p=[0,  0., 0]\n",
    "#minimize(zf,p, bounds=[(0,.5)]*3)"
   ]
  },
  {
   "cell_type": "code",
   "execution_count": 222,
   "metadata": {
    "collapsed": true
   },
   "outputs": [],
   "source": [
    "def twiddle(tol=.02,n=1): \n",
    "    p = [0, 0,0]\n",
    "    dp = [1, 1,1]\n",
    "    best_err = error( p,n)\n",
    "\n",
    "    it = 0\n",
    "    while sum(dp) > tol:\n",
    "        print(\"Iteration {}, best error = {}\".format(it, best_err))\n",
    "        print(dp)\n",
    "        for i in range(len(p)):\n",
    "            p[i] += dp[i]\n",
    "            err = error(p,n)\n",
    "\n",
    "            if err < best_err:\n",
    "                best_err = err\n",
    "                dp[i] *= 1.1\n",
    "            else:\n",
    "                p[i] -= 2 * dp[i]\n",
    "                err = error(p,n)\n",
    "\n",
    "                if err < best_err:\n",
    "                    best_err = err\n",
    "                    dp[i] *= 1.1\n",
    "                else:\n",
    "                    p[i] += dp[i]\n",
    "                    dp[i] *= 0.9\n",
    "        it += 1\n",
    "    return p"
   ]
  },
  {
   "cell_type": "code",
   "execution_count": 225,
   "metadata": {
    "collapsed": false,
    "scrolled": false
   },
   "outputs": [
    {
     "name": "stdout",
     "output_type": "stream",
     "text": [
      "[0, 0, 0] 3.76925 203.0\n",
      "Iteration 0, best error = 3.76925\n",
      "[1, 1, 1]\n",
      "[1, 0, 0] 0.956681 326.0\n",
      "[1, 1, 0] 2.81942 365.0\n",
      "[1, -1, 0] 2.59621 358.0\n",
      "[1, 0, 1] 0.465628 2240.0\n",
      "Iteration 1, best error = 0.465628\n",
      "[1.1, 0.9, 1.1]\n",
      "[2.1, 0, 1] 0.496188 3001.0\n",
      "[-0.10000000000000009, 0, 1] 4.23846 606.0\n",
      "[1.0, 0.9, 1] 1.25405 2413.0\n",
      "[1.0, -0.9, 1] 2.17603 339.0\n",
      "[1.0, 0.0, 2.1] 0.25119 3001.0\n",
      "Iteration 2, best error = 0.25119\n",
      "[0.9900000000000001, 0.81, 1.2100000000000002]\n",
      "[1.9900000000000002, 0.0, 2.1] 0.12649 3001.0\n",
      "[1.9900000000000002, 0.81, 2.1] 0.172091 3001.0\n",
      "[1.9900000000000002, -0.81, 2.1] 2.73364 436.0\n",
      "[1.9900000000000002, 0.0, 3.3100000000000005] 0.111074 3001.0\n",
      "Iteration 3, best error = 0.111074\n",
      "[1.0890000000000002, 0.7290000000000001, 1.3310000000000004]\n",
      "[3.0790000000000006, 0.0, 3.3100000000000005] 0.051561 3001.0\n",
      "[3.0790000000000006, 0.7290000000000001, 3.3100000000000005] 0.0753014 3001.0\n",
      "[3.0790000000000006, -0.7290000000000001, 3.3100000000000005] 2.7849 613.0\n",
      "[3.0790000000000006, 0.0, 4.641000000000001] 0.0678155 3001.0\n",
      "[3.0790000000000006, 0.0, 1.979] 0.166615 3001.0\n",
      "Iteration 4, best error = 0.051561\n",
      "[1.1979000000000004, 0.6561000000000001, 1.1979000000000004]\n",
      "[4.276900000000001, 0.0, 3.3100000000000005] 0.0438889 3001.0\n",
      "[4.276900000000001, 0.6561000000000001, 3.3100000000000005] 0.0599041 3001.0\n",
      "[4.276900000000001, -0.6561000000000001, 3.3100000000000005] 2.58312 975.0\n",
      "[4.276900000000001, 0.0, 4.507900000000001] 0.0587282 3001.0\n",
      "[4.276900000000001, 0.0, 2.1121000000000003] 0.198977 3001.0\n",
      "Iteration 5, best error = 0.0438889\n",
      "[1.3176900000000005, 0.5904900000000002, 1.0781100000000003]\n",
      "[5.594590000000002, 0.0, 3.3100000000000005] 0.0582969 3001.0\n",
      "[2.959210000000001, 0.0, 3.3100000000000005] 0.0529643 3001.0\n",
      "[4.276900000000001, 0.5904900000000002, 3.3100000000000005] 0.051371 3001.0\n",
      "[4.276900000000001, -0.5904900000000002, 3.3100000000000005] 2.46919 1039.0\n",
      "[4.276900000000001, 0.0, 4.388110000000001] 0.0565927 3001.0\n",
      "[4.276900000000001, 0.0, 2.2318900000000004] 0.228206 3001.0\n",
      "Iteration 6, best error = 0.0438889\n",
      "[1.1859210000000004, 0.5314410000000002, 0.9702990000000004]\n",
      "[5.462821000000002, 0.0, 3.3100000000000005] 0.0439195 3001.0\n",
      "[3.090979000000001, 0.0, 3.3100000000000005] 0.0629963 3001.0\n",
      "[4.276900000000001, 0.5314410000000002, 3.3100000000000005] 0.0771197 3001.0\n"
     ]
    },
    {
     "ename": "KeyboardInterrupt",
     "evalue": "",
     "output_type": "error",
     "traceback": [
      "\u001b[0;31m---------------------------------------------------------------------------\u001b[0m",
      "\u001b[0;31mKeyboardInterrupt\u001b[0m                         Traceback (most recent call last)",
      "\u001b[0;32m<ipython-input-225-644625ab0878>\u001b[0m in \u001b[0;36m<module>\u001b[0;34m()\u001b[0m\n\u001b[0;32m----> 1\u001b[0;31m \u001b[0mtwiddle\u001b[0m\u001b[0;34m(\u001b[0m\u001b[0;36m.02\u001b[0m\u001b[0;34m)\u001b[0m\u001b[0;34m\u001b[0m\u001b[0m\n\u001b[0m",
      "\u001b[0;32m<ipython-input-222-7631a776a8af>\u001b[0m in \u001b[0;36mtwiddle\u001b[0;34m(tol, n)\u001b[0m\n\u001b[1;32m     17\u001b[0m             \u001b[0;32melse\u001b[0m\u001b[0;34m:\u001b[0m\u001b[0;34m\u001b[0m\u001b[0m\n\u001b[1;32m     18\u001b[0m                 \u001b[0mp\u001b[0m\u001b[0;34m[\u001b[0m\u001b[0mi\u001b[0m\u001b[0;34m]\u001b[0m \u001b[0;34m-=\u001b[0m \u001b[0;36m2\u001b[0m \u001b[0;34m*\u001b[0m \u001b[0mdp\u001b[0m\u001b[0;34m[\u001b[0m\u001b[0mi\u001b[0m\u001b[0;34m]\u001b[0m\u001b[0;34m\u001b[0m\u001b[0m\n\u001b[0;32m---> 19\u001b[0;31m                 \u001b[0merr\u001b[0m \u001b[0;34m=\u001b[0m \u001b[0merror\u001b[0m\u001b[0;34m(\u001b[0m\u001b[0mp\u001b[0m\u001b[0;34m,\u001b[0m\u001b[0mn\u001b[0m\u001b[0;34m)\u001b[0m\u001b[0;34m\u001b[0m\u001b[0m\n\u001b[0m\u001b[1;32m     20\u001b[0m \u001b[0;34m\u001b[0m\u001b[0m\n\u001b[1;32m     21\u001b[0m                 \u001b[0;32mif\u001b[0m \u001b[0merr\u001b[0m \u001b[0;34m<\u001b[0m \u001b[0mbest_err\u001b[0m\u001b[0;34m:\u001b[0m\u001b[0;34m\u001b[0m\u001b[0m\n",
      "\u001b[0;32m<ipython-input-219-1401c4eb9ea9>\u001b[0m in \u001b[0;36merror\u001b[0;34m(p, n)\u001b[0m\n\u001b[1;32m      3\u001b[0m     \u001b[0mdurs\u001b[0m\u001b[0;34m=\u001b[0m\u001b[0;34m[\u001b[0m\u001b[0;34m]\u001b[0m\u001b[0;34m\u001b[0m\u001b[0m\n\u001b[1;32m      4\u001b[0m     \u001b[0;32mfor\u001b[0m \u001b[0mi\u001b[0m \u001b[0;32min\u001b[0m \u001b[0mrange\u001b[0m\u001b[0;34m(\u001b[0m\u001b[0mn\u001b[0m\u001b[0;34m)\u001b[0m\u001b[0;34m:\u001b[0m\u001b[0;34m\u001b[0m\u001b[0m\n\u001b[0;32m----> 5\u001b[0;31m         \u001b[0mresult\u001b[0m \u001b[0;34m=\u001b[0m \u001b[0mstr\u001b[0m\u001b[0;34m(\u001b[0m\u001b[0mcheck_output\u001b[0m\u001b[0;34m(\u001b[0m\u001b[0;34m[\u001b[0m\u001b[0;34m'./build/pid'\u001b[0m\u001b[0;34m,\u001b[0m\u001b[0mstr\u001b[0m\u001b[0;34m(\u001b[0m\u001b[0mp\u001b[0m\u001b[0;34m[\u001b[0m\u001b[0;36m0\u001b[0m\u001b[0;34m]\u001b[0m\u001b[0;34m)\u001b[0m\u001b[0;34m,\u001b[0m\u001b[0mstr\u001b[0m\u001b[0;34m(\u001b[0m\u001b[0mp\u001b[0m\u001b[0;34m[\u001b[0m\u001b[0;36m1\u001b[0m\u001b[0;34m]\u001b[0m\u001b[0;34m)\u001b[0m\u001b[0;34m,\u001b[0m\u001b[0mstr\u001b[0m\u001b[0;34m(\u001b[0m\u001b[0mp\u001b[0m\u001b[0;34m[\u001b[0m\u001b[0;36m2\u001b[0m\u001b[0;34m]\u001b[0m\u001b[0;34m)\u001b[0m\u001b[0;34m]\u001b[0m\u001b[0;34m)\u001b[0m\u001b[0;34m)\u001b[0m\u001b[0;34m\u001b[0m\u001b[0m\n\u001b[0m\u001b[1;32m      6\u001b[0m \u001b[0;34m\u001b[0m\u001b[0m\n\u001b[1;32m      7\u001b[0m         \u001b[0mcte\u001b[0m \u001b[0;34m=\u001b[0m \u001b[0mfloat\u001b[0m\u001b[0;34m(\u001b[0m\u001b[0mm\u001b[0m\u001b[0;34m.\u001b[0m\u001b[0mfindall\u001b[0m\u001b[0;34m(\u001b[0m\u001b[0mresult\u001b[0m\u001b[0;34m)\u001b[0m\u001b[0;34m[\u001b[0m\u001b[0;36m0\u001b[0m\u001b[0;34m]\u001b[0m\u001b[0;34m)\u001b[0m\u001b[0;34m\u001b[0m\u001b[0m\n",
      "\u001b[0;32m/Users/chris/anaconda2/envs/py3/lib/python3.5/subprocess.py\u001b[0m in \u001b[0;36mcheck_output\u001b[0;34m(timeout, *popenargs, **kwargs)\u001b[0m\n\u001b[1;32m    624\u001b[0m \u001b[0;34m\u001b[0m\u001b[0m\n\u001b[1;32m    625\u001b[0m     return run(*popenargs, stdout=PIPE, timeout=timeout, check=True,\n\u001b[0;32m--> 626\u001b[0;31m                **kwargs).stdout\n\u001b[0m\u001b[1;32m    627\u001b[0m \u001b[0;34m\u001b[0m\u001b[0m\n\u001b[1;32m    628\u001b[0m \u001b[0;34m\u001b[0m\u001b[0m\n",
      "\u001b[0;32m/Users/chris/anaconda2/envs/py3/lib/python3.5/subprocess.py\u001b[0m in \u001b[0;36mrun\u001b[0;34m(input, timeout, check, *popenargs, **kwargs)\u001b[0m\n\u001b[1;32m    693\u001b[0m     \u001b[0;32mwith\u001b[0m \u001b[0mPopen\u001b[0m\u001b[0;34m(\u001b[0m\u001b[0;34m*\u001b[0m\u001b[0mpopenargs\u001b[0m\u001b[0;34m,\u001b[0m \u001b[0;34m**\u001b[0m\u001b[0mkwargs\u001b[0m\u001b[0;34m)\u001b[0m \u001b[0;32mas\u001b[0m \u001b[0mprocess\u001b[0m\u001b[0;34m:\u001b[0m\u001b[0;34m\u001b[0m\u001b[0m\n\u001b[1;32m    694\u001b[0m         \u001b[0;32mtry\u001b[0m\u001b[0;34m:\u001b[0m\u001b[0;34m\u001b[0m\u001b[0m\n\u001b[0;32m--> 695\u001b[0;31m             \u001b[0mstdout\u001b[0m\u001b[0;34m,\u001b[0m \u001b[0mstderr\u001b[0m \u001b[0;34m=\u001b[0m \u001b[0mprocess\u001b[0m\u001b[0;34m.\u001b[0m\u001b[0mcommunicate\u001b[0m\u001b[0;34m(\u001b[0m\u001b[0minput\u001b[0m\u001b[0;34m,\u001b[0m \u001b[0mtimeout\u001b[0m\u001b[0;34m=\u001b[0m\u001b[0mtimeout\u001b[0m\u001b[0;34m)\u001b[0m\u001b[0;34m\u001b[0m\u001b[0m\n\u001b[0m\u001b[1;32m    696\u001b[0m         \u001b[0;32mexcept\u001b[0m \u001b[0mTimeoutExpired\u001b[0m\u001b[0;34m:\u001b[0m\u001b[0;34m\u001b[0m\u001b[0m\n\u001b[1;32m    697\u001b[0m             \u001b[0mprocess\u001b[0m\u001b[0;34m.\u001b[0m\u001b[0mkill\u001b[0m\u001b[0;34m(\u001b[0m\u001b[0;34m)\u001b[0m\u001b[0;34m\u001b[0m\u001b[0m\n",
      "\u001b[0;32m/Users/chris/anaconda2/envs/py3/lib/python3.5/subprocess.py\u001b[0m in \u001b[0;36mcommunicate\u001b[0;34m(self, input, timeout)\u001b[0m\n\u001b[1;32m   1057\u001b[0m                 \u001b[0mself\u001b[0m\u001b[0;34m.\u001b[0m\u001b[0m_stdin_write\u001b[0m\u001b[0;34m(\u001b[0m\u001b[0minput\u001b[0m\u001b[0;34m)\u001b[0m\u001b[0;34m\u001b[0m\u001b[0m\n\u001b[1;32m   1058\u001b[0m             \u001b[0;32melif\u001b[0m \u001b[0mself\u001b[0m\u001b[0;34m.\u001b[0m\u001b[0mstdout\u001b[0m\u001b[0;34m:\u001b[0m\u001b[0;34m\u001b[0m\u001b[0m\n\u001b[0;32m-> 1059\u001b[0;31m                 \u001b[0mstdout\u001b[0m \u001b[0;34m=\u001b[0m \u001b[0mself\u001b[0m\u001b[0;34m.\u001b[0m\u001b[0mstdout\u001b[0m\u001b[0;34m.\u001b[0m\u001b[0mread\u001b[0m\u001b[0;34m(\u001b[0m\u001b[0;34m)\u001b[0m\u001b[0;34m\u001b[0m\u001b[0m\n\u001b[0m\u001b[1;32m   1060\u001b[0m                 \u001b[0mself\u001b[0m\u001b[0;34m.\u001b[0m\u001b[0mstdout\u001b[0m\u001b[0;34m.\u001b[0m\u001b[0mclose\u001b[0m\u001b[0;34m(\u001b[0m\u001b[0;34m)\u001b[0m\u001b[0;34m\u001b[0m\u001b[0m\n\u001b[1;32m   1061\u001b[0m             \u001b[0;32melif\u001b[0m \u001b[0mself\u001b[0m\u001b[0;34m.\u001b[0m\u001b[0mstderr\u001b[0m\u001b[0;34m:\u001b[0m\u001b[0;34m\u001b[0m\u001b[0m\n",
      "\u001b[0;31mKeyboardInterrupt\u001b[0m: "
     ]
    }
   ],
   "source": [
    "twiddle(.02)"
   ]
  },
  {
   "cell_type": "code",
   "execution_count": null,
   "metadata": {
    "collapsed": true
   },
   "outputs": [],
   "source": []
  }
 ],
 "metadata": {
  "anaconda-cloud": {},
  "kernelspec": {
   "display_name": "Python [conda env:py3]",
   "language": "python",
   "name": "conda-env-py3-py"
  },
  "language_info": {
   "codemirror_mode": {
    "name": "ipython",
    "version": 3
   },
   "file_extension": ".py",
   "mimetype": "text/x-python",
   "name": "python",
   "nbconvert_exporter": "python",
   "pygments_lexer": "ipython3",
   "version": "3.5.2"
  }
 },
 "nbformat": 4,
 "nbformat_minor": 1
}
